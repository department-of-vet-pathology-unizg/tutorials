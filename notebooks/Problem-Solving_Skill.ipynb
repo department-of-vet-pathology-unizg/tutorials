{
 "cells": [
  {
   "cell_type": "markdown",
   "metadata": {},
   "source": [
    "# Problem-Solving"
   ]
  },
  {
   "cell_type": "markdown",
   "metadata": {},
   "source": [
    "Solving problems is a different type of mental activity from learning syntax. For this reason, \"understanding python\" won't necessarily translate into good problem-solving skills.\n",
    "\n",
    "In this notebook, we will go through a process a programmer would use when solving a relatively complex problem."
   ]
  },
  {
   "cell_type": "markdown",
   "metadata": {},
   "source": [
    "# Cropping images"
   ]
  },
  {
   "cell_type": "markdown",
   "metadata": {},
   "source": [
    "Our task will be to crop an image to multiple smaller pieces, like this:"
   ]
  },
  {
   "attachments": {},
   "cell_type": "markdown",
   "metadata": {},
   "source": [
    "![](imgs/image-grid.jpg)"
   ]
  },
  {
   "cell_type": "markdown",
   "metadata": {},
   "source": [
    "Let's say we want to feed a neural network with histopathology images, but we have a problem: our images are really large (2000x2000 px) and we want to split every image to 16 smaller (500x500 px) images."
   ]
  },
  {
   "cell_type": "markdown",
   "metadata": {},
   "source": [
    "### Divide and Conquer"
   ]
  },
  {
   "cell_type": "markdown",
   "metadata": {},
   "source": [
    "The way you should think about this problem is not \"How to split an image into 16 smaller ones?\", but **\"What is the simplest sub-problem I can solve?\"**. \n",
    "\n",
    "Always \"_Reduce the problem to the point where you know how to solve it and write the solution. Then expand the problem slightly and rewrite the solution to match, and keep going until you are back where you started._\" - V. Anton Spraul (author of the book “Think Like a Programmer: An Introduction to Creative Problem Solving”).\n",
    "\n",
    "In our case, **we will start by cropping just one image, and expand from there**."
   ]
  },
  {
   "cell_type": "markdown",
   "metadata": {},
   "source": [
    "![](imgs/image-grid_sub.jpg)"
   ]
  },
  {
   "cell_type": "markdown",
   "metadata": {},
   "source": [
    "### Step I: Croping the upper left corner (red area)"
   ]
  },
  {
   "cell_type": "markdown",
   "metadata": {},
   "source": [
    "Let's load our image first. For reading and writing images we will use [OpenCV library](https://docs.opencv.org/master/d1/dfb/intro.html)."
   ]
  },
  {
   "cell_type": "code",
   "execution_count": 1,
   "metadata": {},
   "outputs": [],
   "source": [
    "import cv2\n",
    "\n",
    "# For simplicity, we'll load the image in grayscale mode.\n",
    "img = cv2.imread('imgs/mastocytoma_2000px.jpg', cv2.IMREAD_GRAYSCALE)"
   ]
  },
  {
   "cell_type": "markdown",
   "metadata": {},
   "source": [
    "You should read the [official tutorial](https://docs.opencv.org/master/dc/d2e/tutorial_py_image_display.html) about reading and writing images in OpenCV."
   ]
  },
  {
   "cell_type": "markdown",
   "metadata": {},
   "source": [
    "Ok, we just loaded the image into variable **\"img\"**. Let's print it:"
   ]
  },
  {
   "cell_type": "code",
   "execution_count": 2,
   "metadata": {},
   "outputs": [
    {
     "name": "stdout",
     "output_type": "stream",
     "text": [
      "[[223 215 216 ... 230 233 232]\n",
      " [221 214 216 ... 226 231 233]\n",
      " [218 214 216 ... 221 230 235]\n",
      " ...\n",
      " [211 212 212 ... 210 210 208]\n",
      " [211 212 212 ... 211 210 209]\n",
      " [212 213 213 ... 211 212 213]]\n"
     ]
    }
   ],
   "source": [
    "print(img)"
   ]
  },
  {
   "cell_type": "markdown",
   "metadata": {},
   "source": [
    "In computer memory, black and white images are represented with two-dimensional arrays (matrices) in which every pixel has an intensity between 0 and 255, with 0 being black and 255 being white."
   ]
  },
  {
   "cell_type": "markdown",
   "metadata": {},
   "source": [
    "![](imgs/imagematrix.png)"
   ]
  },
  {
   "cell_type": "markdown",
   "metadata": {},
   "source": [
    "Our two-dimensional array is actually a **nested list**. If you don't know what nested lists are, you should read this [Quick Overview of Nested Lists in Python](https://www.dreamincode.net/forums/topic/193487-a-quick-overview-of-nested-lists-in-python/)\n",
    "\n",
    "You should also read something about [indexing and slicing](https://www.pythoninformer.com/python-libraries/numpy/index-and-slice/)."
   ]
  },
  {
   "cell_type": "markdown",
   "metadata": {},
   "source": [
    "Now when you know what nested lists are and how indexing and slicing a list work, we can finally try to crop our first image!\n",
    "\n",
    "... but first, let's experiment a little bit with list indexing and slicing:"
   ]
  },
  {
   "cell_type": "code",
   "execution_count": 3,
   "metadata": {},
   "outputs": [
    {
     "name": "stdout",
     "output_type": "stream",
     "text": [
      "[223 215 216 ... 230 233 232]\n"
     ]
    }
   ],
   "source": [
    "print(img[0]) # prints the first row"
   ]
  },
  {
   "cell_type": "code",
   "execution_count": 4,
   "metadata": {},
   "outputs": [
    {
     "name": "stdout",
     "output_type": "stream",
     "text": [
      "221\n"
     ]
    }
   ],
   "source": [
    "print(img[1, 0]) # prints the first pixel in second row"
   ]
  },
  {
   "cell_type": "code",
   "execution_count": 5,
   "metadata": {},
   "outputs": [
    {
     "name": "stdout",
     "output_type": "stream",
     "text": [
      "[[223 215 216 ... 230 233 232]\n",
      " [221 214 216 ... 226 231 233]\n",
      " [218 214 216 ... 221 230 235]\n",
      " ...\n",
      " [211 212 212 ... 210 210 208]\n",
      " [211 212 212 ... 211 210 209]\n",
      " [212 213 213 ... 211 212 213]]\n"
     ]
    }
   ],
   "source": [
    "print(img[:]) # prints the whole image"
   ]
  },
  {
   "cell_type": "code",
   "execution_count": 6,
   "metadata": {},
   "outputs": [
    {
     "name": "stdout",
     "output_type": "stream",
     "text": [
      "[223 221 218 ... 211 211 212]\n"
     ]
    }
   ],
   "source": [
    "print(img[:, 0]) # prints the first column"
   ]
  },
  {
   "cell_type": "code",
   "execution_count": 7,
   "metadata": {},
   "outputs": [
    {
     "name": "stdout",
     "output_type": "stream",
     "text": [
      "[[223 215 216 ... 230 233 232]\n",
      " [221 214 216 ... 226 231 233]\n",
      " [218 214 216 ... 221 230 235]\n",
      " ...\n",
      " [207 199 192 ... 200 200 202]\n",
      " [212 208 201 ... 201 200 200]\n",
      " [201 207 210 ... 208 206 204]]\n"
     ]
    }
   ],
   "source": [
    "print(img[:500]) # prints the first 500 rows"
   ]
  },
  {
   "cell_type": "code",
   "execution_count": 8,
   "metadata": {},
   "outputs": [
    {
     "name": "stdout",
     "output_type": "stream",
     "text": [
      "[[223 215 216 ... 167 169 171]\n",
      " [221 214 216 ... 171 164 163]\n",
      " [218 214 216 ... 181 170 165]\n",
      " ...\n",
      " [211 212 212 ... 209 208 207]\n",
      " [211 212 212 ... 207 208 209]\n",
      " [212 213 213 ... 205 208 210]]\n"
     ]
    }
   ],
   "source": [
    "print(img[:, :500]) # prints the first 500 columns"
   ]
  },
  {
   "cell_type": "code",
   "execution_count": 9,
   "metadata": {},
   "outputs": [
    {
     "name": "stdout",
     "output_type": "stream",
     "text": [
      "[[223 215 216 ... 167 169 171]\n",
      " [221 214 216 ... 171 164 163]\n",
      " [218 214 216 ... 181 170 165]\n",
      " ...\n",
      " [207 199 192 ... 183 182 183]\n",
      " [212 208 201 ... 188 186 186]\n",
      " [201 207 210 ... 196 193 193]]\n"
     ]
    }
   ],
   "source": [
    "# from first 500 rows prints first 500 columns\n",
    "# in other words, it crops the 500x500 px image from the upper left corner\n",
    "print(img[:500, :500])"
   ]
  },
  {
   "cell_type": "markdown",
   "metadata": {},
   "source": [
    "Let's put this into a variable and display it using matplotlib:"
   ]
  },
  {
   "cell_type": "code",
   "execution_count": 10,
   "metadata": {},
   "outputs": [],
   "source": [
    "crop = img[:500, :500]"
   ]
  },
  {
   "cell_type": "code",
   "execution_count": 11,
   "metadata": {},
   "outputs": [
    {
     "data": {
      "text/plain": [
       "<matplotlib.image.AxesImage at 0x7f9098998ef0>"
      ]
     },
     "execution_count": 11,
     "metadata": {},
     "output_type": "execute_result"
    }
   ],
   "source": [
    "from matplotlib import pyplot as plt\n",
    "\n",
    "plt.imshow(crop, cmap='gray')"
   ]
  },
  {
   "cell_type": "markdown",
   "metadata": {},
   "source": [
    "### Step II: Cropping images from red AND yellow area"
   ]
  },
  {
   "cell_type": "markdown",
   "metadata": {},
   "source": [
    "![](imgs/image-grid_sub.jpg)"
   ]
  },
  {
   "cell_type": "markdown",
   "metadata": {},
   "source": [
    "We We successfully cropped upper left corner. To crop the images from the first row (red and yellow area) we need to add a **for loop**. There are four images in the first row, so we need to loop four times."
   ]
  },
  {
   "cell_type": "code",
   "execution_count": 12,
   "metadata": {},
   "outputs": [
    {
     "name": "stdout",
     "output_type": "stream",
     "text": [
      "0\n",
      "1\n",
      "2\n",
      "3\n"
     ]
    }
   ],
   "source": [
    "n = 4 # number of images in a row\n",
    "\n",
    "for i in range(n):\n",
    "    print(i)"
   ]
  },
  {
   "cell_type": "markdown",
   "metadata": {},
   "source": [
    "Great! We have the for loop that iterates four times. Let's add our code for cropping:"
   ]
  },
  {
   "cell_type": "code",
   "execution_count": 13,
   "metadata": {},
   "outputs": [],
   "source": [
    "n = 4 # number of images in a row\n",
    "\n",
    "# you don't need to write this line in one take;\n",
    "# you can take the same \"reduce the problem \n",
    "# technique\" we are learning here.\n",
    "# you could start with \"print(len(img))\"...\n",
    "# ...than change it to \"print(len(img) / n)\"\n",
    "# and after seeing that the output is float instead of integer write:\n",
    "sz = int(len(img) / n) # size of cropped images (500)\n",
    "\n",
    "for i in range(n):\n",
    "    #print(i)\n",
    "    crop = img[:sz, :sz]\n",
    "    #print('\\n',  crop)\n",
    "    cv2.imwrite('crop.jpg', crop)"
   ]
  },
  {
   "cell_type": "markdown",
   "metadata": {},
   "source": [
    "This code crops **the same upper-left corner** four times and saves the images onto the hard drive. In order to get a \"sliding window\", we need to modify this code slightly."
   ]
  },
  {
   "cell_type": "code",
   "execution_count": 14,
   "metadata": {},
   "outputs": [],
   "source": [
    "n = 4\n",
    "sz = int(len(img) / n)\n",
    "\n",
    "\n",
    "for i in range(n):\n",
    "    #print(i)\n",
    "    crop = img[:sz, (i*sz):(i*sz)+sz]\n",
    "    \n",
    "    # you can uncomment this line to print above values;\n",
    "    # remember: if you don't understand what is happening, you can always print values\n",
    "    #print(str(sz), str(i*sz) + ':' + str((i*sz)+sz))\n",
    "    \n",
    "    cv2.imwrite('crop_' + str(i) + '.jpg', crop)"
   ]
  },
  {
   "cell_type": "markdown",
   "metadata": {},
   "source": [
    "### Step III: Cropping all 16 images"
   ]
  },
  {
   "cell_type": "markdown",
   "metadata": {},
   "source": [
    "To crop all images we just need to add another \"for loop\"."
   ]
  },
  {
   "cell_type": "code",
   "execution_count": 15,
   "metadata": {},
   "outputs": [],
   "source": [
    "n = 4\n",
    "sz = int(len(img) / n)\n",
    "\n",
    "\n",
    "for i in range(n):\n",
    "    for j in range(n):\n",
    "        crop = img[(i*sz):(i*sz)+sz, (j*sz):(j*sz)+sz]\n",
    "        cv2.imwrite('crop_' + str(i) + str(j) + '.jpg', crop)"
   ]
  },
  {
   "cell_type": "markdown",
   "metadata": {},
   "source": [
    "This is the first code I wrote solving this problem. It does the job, but it is quite ugly! More experienced programmers would write something like this:"
   ]
  },
  {
   "cell_type": "code",
   "execution_count": 16,
   "metadata": {},
   "outputs": [],
   "source": [
    "n = 4\n",
    "sz = int(img.shape[0] / n)\n",
    "\n",
    "for r in range(0, img.shape[0], sz):\n",
    "    for c in range(0, img.shape[1], sz):\n",
    "        cv2.imwrite(f\"img{r}_{c}.jpg\", img[r:r+sz, c:c+sz])"
   ]
  },
  {
   "cell_type": "markdown",
   "metadata": {},
   "source": [
    "The same code will work with color images!"
   ]
  },
  {
   "cell_type": "markdown",
   "metadata": {},
   "source": [
    "### Summary"
   ]
  },
  {
   "cell_type": "markdown",
   "metadata": {},
   "source": [
    "1. Always try to break your problems into sub-problems that are much easier to solve.\n",
    "2. If you don't understand what is happening in the code just print() the input and outputs."
   ]
  }
 ],
 "metadata": {
  "kernelspec": {
   "display_name": "Python [conda env:miniconda3]",
   "language": "python",
   "name": "conda-env-miniconda3-py"
  },
  "language_info": {
   "codemirror_mode": {
    "name": "ipython",
    "version": 3
   },
   "file_extension": ".py",
   "mimetype": "text/x-python",
   "name": "python",
   "nbconvert_exporter": "python",
   "pygments_lexer": "ipython3",
   "version": "3.6.6"
  }
 },
 "nbformat": 4,
 "nbformat_minor": 2
}
